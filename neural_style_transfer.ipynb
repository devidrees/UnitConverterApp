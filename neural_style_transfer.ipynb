{
  "nbformat": 4,
  "nbformat_minor": 0,
  "metadata": {
    "colab": {
      "name": "NST.ipynb",
      "provenance": [],
      "collapsed_sections": [],
      "mount_file_id": "1jzL7qyCPMdfOMfl5u2pCeGAzefC0dl3Y",
      "authorship_tag": "ABX9TyMZRoMwWM8vs9jfwLzwBVwC",
      "include_colab_link": true
    },
    "kernelspec": {
      "name": "python3",
      "display_name": "Python 3"
    },
    "language_info": {
      "name": "python"
    }
  },
  "cells": [
    {
      "cell_type": "markdown",
      "metadata": {
        "id": "view-in-github",
        "colab_type": "text"
      },
      "source": [
        "<a href=\"https://colab.research.google.com/github/devidrees/UnitConverterApp/blob/main/neural_style_transfer.ipynb\" target=\"_parent\"><img src=\"https://colab.research.google.com/assets/colab-badge.svg\" alt=\"Open In Colab\"/></a>"
      ]
    },
    {
      "cell_type": "markdown",
      "source": [
        "**0. Import Dependencies and Pretrained Model**"
      ],
      "metadata": {
        "id": "5saeWeYb9d4u"
      }
    },
    {
      "cell_type": "code",
      "execution_count": null,
      "metadata": {
        "id": "pfiPguyLTTCl"
      },
      "outputs": [],
      "source": [
        "\n",
        "import tensorflow_hub as hub\n",
        "import tensorflow as tf\n",
        "from matplotlib import pyplot as plt\n",
        "import numpy as np\n",
        "import cv2"
      ]
    },
    {
      "cell_type": "code",
      "source": [
        "model = hub.load('https://tfhub.dev/google/magenta/arbitrary-image-stylization-v1-256/2')"
      ],
      "metadata": {
        "id": "jP8yPV-0942i"
      },
      "execution_count": null,
      "outputs": []
    },
    {
      "cell_type": "markdown",
      "source": [
        "**1. Preprocess Image and Load**"
      ],
      "metadata": {
        "id": "4yG7fyTz9-cr"
      }
    },
    {
      "cell_type": "code",
      "source": [
        "from google.colab import drive\n",
        "drive.mount('/content/gdrive')"
      ],
      "metadata": {
        "colab": {
          "base_uri": "https://localhost:8080/"
        },
        "id": "Ey8P_U0EdTQx",
        "outputId": "2ceb5a9e-d766-461d-dd53-c7924db3435b"
      },
      "execution_count": null,
      "outputs": [
        {
          "output_type": "stream",
          "name": "stdout",
          "text": [
            "Drive already mounted at /content/gdrive; to attempt to forcibly remount, call drive.mount(\"/content/gdrive\", force_remount=True).\n"
          ]
        }
      ]
    },
    {
      "cell_type": "code",
      "source": [
        "def load_image(img_path):\n",
        " \n",
        "    img = tf.io.read_file(img_path)\n",
        "    img = tf.image.decode_image(img, channels=3)\n",
        "    img = tf.image.convert_image_dtype(img, tf.float32)\n",
        "    img = img[tf.newaxis, :]\n",
        "    return img"
      ],
      "metadata": {
        "id": "5M-2uXC3-CW7"
      },
      "execution_count": null,
      "outputs": []
    },
    {
      "cell_type": "code",
      "source": [
        "content_image = load_image('/idrees.jpg')\n",
        "style_image = load_image('/monalisa.jpg')"
      ],
      "metadata": {
        "id": "cvMlhwTR-IQE"
      },
      "execution_count": null,
      "outputs": []
    },
    {
      "cell_type": "markdown",
      "source": [
        "**2. Visualize Output**"
      ],
      "metadata": {
        "id": "S4c3u6zm-Jqt"
      }
    },
    {
      "cell_type": "code",
      "source": [
        "content_image.shape"
      ],
      "metadata": {
        "colab": {
          "base_uri": "https://localhost:8080/",
          "height": 165
        },
        "id": "hLe13Dyk-OfV",
        "outputId": "a1973399-cc6d-491f-fa9b-f8d1397a3f56"
      },
      "execution_count": null,
      "outputs": [
        {
          "output_type": "error",
          "ename": "NameError",
          "evalue": "ignored",
          "traceback": [
            "\u001b[0;31m---------------------------------------------------------------------------\u001b[0m",
            "\u001b[0;31mNameError\u001b[0m                                 Traceback (most recent call last)",
            "\u001b[0;32m<ipython-input-33-971f54bfaa28>\u001b[0m in \u001b[0;36m<module>\u001b[0;34m()\u001b[0m\n\u001b[0;32m----> 1\u001b[0;31m \u001b[0mcontent_image\u001b[0m\u001b[0;34m.\u001b[0m\u001b[0mshape\u001b[0m\u001b[0;34m\u001b[0m\u001b[0;34m\u001b[0m\u001b[0m\n\u001b[0m",
            "\u001b[0;31mNameError\u001b[0m: name 'content_image' is not defined"
          ]
        }
      ]
    },
    {
      "cell_type": "code",
      "source": [
        "plt.imshow(np.squeeze(style_image))\n",
        "plt.show()"
      ],
      "metadata": {
        "id": "HKT9ACQJ-VAf"
      },
      "execution_count": null,
      "outputs": []
    },
    {
      "cell_type": "markdown",
      "source": [
        "**3. Stylize Image**"
      ],
      "metadata": {
        "id": "NT6ja-lg-bDn"
      }
    },
    {
      "cell_type": "code",
      "source": [
        "stylized_image = model(tf.constant(content_image), tf.constant(style_image))[0]"
      ],
      "metadata": {
        "id": "xnAOfDjl-cro"
      },
      "execution_count": null,
      "outputs": []
    },
    {
      "cell_type": "code",
      "source": [
        "plt.imshow(np.squeeze(stylized_image))\n",
        "plt.show()"
      ],
      "metadata": {
        "id": "MGcbM9_7-gxR"
      },
      "execution_count": null,
      "outputs": []
    },
    {
      "cell_type": "code",
      "source": [
        "cv2.imwrite('generated_img.jpg', cv2.cvtColor(np.squeeze(stylized_image)*255, cv2.COLOR_BGR2RGB))"
      ],
      "metadata": {
        "id": "S-yQN5UF-pPK"
      },
      "execution_count": null,
      "outputs": []
    }
  ]
}